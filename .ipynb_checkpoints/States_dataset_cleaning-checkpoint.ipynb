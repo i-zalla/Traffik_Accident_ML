{
 "cells": [
  {
   "cell_type": "code",
   "execution_count": 1,
   "id": "ad739e6a-8caf-4250-a3b9-6da9d9ffeaa3",
   "metadata": {
    "scrolled": true
   },
   "outputs": [
    {
     "ename": "EOFError",
     "evalue": "",
     "output_type": "error",
     "traceback": [
      "\u001b[1;31m---------------------------------------------------------------------------\u001b[0m",
      "\u001b[1;31mEOFError\u001b[0m                                  Traceback (most recent call last)",
      "Cell \u001b[1;32mIn[1], line 60\u001b[0m\n\u001b[0;32m     57\u001b[0m     \u001b[38;5;28;01mreturn\u001b[39;00m df\n\u001b[0;32m     59\u001b[0m \u001b[38;5;66;03m# Appel de la fonction\u001b[39;00m\n\u001b[1;32m---> 60\u001b[0m processed_df \u001b[38;5;241m=\u001b[39m\u001b[43mpreprocess_states_dataset\u001b[49m\u001b[43m(\u001b[49m\u001b[38;5;124;43m\"\u001b[39;49m\u001b[38;5;124;43m./part1/stn_UK.csv\u001b[39;49m\u001b[38;5;124;43m\"\u001b[39;49m\u001b[43m,\u001b[49m\u001b[43m \u001b[49m\u001b[38;5;124;43m\"\u001b[39;49m\u001b[38;5;124;43mresult_roud4_scaler2.csv\u001b[39;49m\u001b[38;5;124;43m\"\u001b[39;49m\u001b[43m)\u001b[49m\n\u001b[0;32m     62\u001b[0m processed_df\n",
      "Cell \u001b[1;32mIn[1], line 36\u001b[0m, in \u001b[0;36mpreprocess_states_dataset\u001b[1;34m(file_path, output_csv_path)\u001b[0m\n\u001b[0;32m     33\u001b[0m        df \u001b[38;5;241m=\u001b[39m df[(df[\u001b[38;5;124m'\u001b[39m\u001b[38;5;124mLatitude\u001b[39m\u001b[38;5;124m'\u001b[39m] \u001b[38;5;241m>\u001b[39m\u001b[38;5;241m=\u001b[39m \u001b[38;5;241m-\u001b[39m\u001b[38;5;241m90\u001b[39m) \u001b[38;5;241m&\u001b[39m (df[\u001b[38;5;124m'\u001b[39m\u001b[38;5;124mLatitude\u001b[39m\u001b[38;5;124m'\u001b[39m] \u001b[38;5;241m<\u001b[39m\u001b[38;5;241m=\u001b[39m \u001b[38;5;241m90\u001b[39m)]\n\u001b[0;32m     35\u001b[0m \u001b[38;5;66;03m# Charger le scaler et le modèle KMeans\u001b[39;00m\n\u001b[1;32m---> 36\u001b[0m    scaler \u001b[38;5;241m=\u001b[39m \u001b[43mjoblib\u001b[49m\u001b[38;5;241;43m.\u001b[39;49m\u001b[43mload\u001b[49m\u001b[43m(\u001b[49m\u001b[38;5;124;43m'\u001b[39;49m\u001b[38;5;124;43m./models/scaler2.pkl\u001b[39;49m\u001b[38;5;124;43m'\u001b[39;49m\u001b[43m)\u001b[49m\n\u001b[0;32m     37\u001b[0m    kmeans \u001b[38;5;241m=\u001b[39m joblib\u001b[38;5;241m.\u001b[39mload(\u001b[38;5;124m'\u001b[39m\u001b[38;5;124m./models/kmeans_model.pkl\u001b[39m\u001b[38;5;124m'\u001b[39m)\n\u001b[0;32m     40\u001b[0m    \u001b[38;5;66;03m# Normaliser toutes les colonnes nécessaires\u001b[39;00m\n",
      "File \u001b[1;32mc:\\Users\\izall\\anaconda3\\envs\\profile-env\\lib\\site-packages\\joblib\\numpy_pickle.py:658\u001b[0m, in \u001b[0;36mload\u001b[1;34m(filename, mmap_mode)\u001b[0m\n\u001b[0;32m    652\u001b[0m             \u001b[38;5;28;01mif\u001b[39;00m \u001b[38;5;28misinstance\u001b[39m(fobj, \u001b[38;5;28mstr\u001b[39m):\n\u001b[0;32m    653\u001b[0m                 \u001b[38;5;66;03m# if the returned file object is a string, this means we\u001b[39;00m\n\u001b[0;32m    654\u001b[0m                 \u001b[38;5;66;03m# try to load a pickle file generated with an version of\u001b[39;00m\n\u001b[0;32m    655\u001b[0m                 \u001b[38;5;66;03m# Joblib so we load it with joblib compatibility function.\u001b[39;00m\n\u001b[0;32m    656\u001b[0m                 \u001b[38;5;28;01mreturn\u001b[39;00m load_compatibility(fobj)\n\u001b[1;32m--> 658\u001b[0m             obj \u001b[38;5;241m=\u001b[39m \u001b[43m_unpickle\u001b[49m\u001b[43m(\u001b[49m\u001b[43mfobj\u001b[49m\u001b[43m,\u001b[49m\u001b[43m \u001b[49m\u001b[43mfilename\u001b[49m\u001b[43m,\u001b[49m\u001b[43m \u001b[49m\u001b[43mmmap_mode\u001b[49m\u001b[43m)\u001b[49m\n\u001b[0;32m    659\u001b[0m \u001b[38;5;28;01mreturn\u001b[39;00m obj\n",
      "File \u001b[1;32mc:\\Users\\izall\\anaconda3\\envs\\profile-env\\lib\\site-packages\\joblib\\numpy_pickle.py:577\u001b[0m, in \u001b[0;36m_unpickle\u001b[1;34m(fobj, filename, mmap_mode)\u001b[0m\n\u001b[0;32m    575\u001b[0m obj \u001b[38;5;241m=\u001b[39m \u001b[38;5;28;01mNone\u001b[39;00m\n\u001b[0;32m    576\u001b[0m \u001b[38;5;28;01mtry\u001b[39;00m:\n\u001b[1;32m--> 577\u001b[0m     obj \u001b[38;5;241m=\u001b[39m \u001b[43munpickler\u001b[49m\u001b[38;5;241;43m.\u001b[39;49m\u001b[43mload\u001b[49m\u001b[43m(\u001b[49m\u001b[43m)\u001b[49m\n\u001b[0;32m    578\u001b[0m     \u001b[38;5;28;01mif\u001b[39;00m unpickler\u001b[38;5;241m.\u001b[39mcompat_mode:\n\u001b[0;32m    579\u001b[0m         warnings\u001b[38;5;241m.\u001b[39mwarn(\u001b[38;5;124m\"\u001b[39m\u001b[38;5;124mThe file \u001b[39m\u001b[38;5;124m'\u001b[39m\u001b[38;5;132;01m%s\u001b[39;00m\u001b[38;5;124m'\u001b[39m\u001b[38;5;124m has been generated with a \u001b[39m\u001b[38;5;124m\"\u001b[39m\n\u001b[0;32m    580\u001b[0m                       \u001b[38;5;124m\"\u001b[39m\u001b[38;5;124mjoblib version less than 0.10. \u001b[39m\u001b[38;5;124m\"\u001b[39m\n\u001b[0;32m    581\u001b[0m                       \u001b[38;5;124m\"\u001b[39m\u001b[38;5;124mPlease regenerate this pickle file.\u001b[39m\u001b[38;5;124m\"\u001b[39m\n\u001b[0;32m    582\u001b[0m                       \u001b[38;5;241m%\u001b[39m filename,\n\u001b[0;32m    583\u001b[0m                       \u001b[38;5;167;01mDeprecationWarning\u001b[39;00m, stacklevel\u001b[38;5;241m=\u001b[39m\u001b[38;5;241m3\u001b[39m)\n",
      "File \u001b[1;32mc:\\Users\\izall\\anaconda3\\envs\\profile-env\\lib\\pickle.py:1211\u001b[0m, in \u001b[0;36m_Unpickler.load\u001b[1;34m(self)\u001b[0m\n\u001b[0;32m   1209\u001b[0m key \u001b[38;5;241m=\u001b[39m read(\u001b[38;5;241m1\u001b[39m)\n\u001b[0;32m   1210\u001b[0m \u001b[38;5;28;01mif\u001b[39;00m \u001b[38;5;129;01mnot\u001b[39;00m key:\n\u001b[1;32m-> 1211\u001b[0m     \u001b[38;5;28;01mraise\u001b[39;00m \u001b[38;5;167;01mEOFError\u001b[39;00m\n\u001b[0;32m   1212\u001b[0m \u001b[38;5;28;01massert\u001b[39;00m \u001b[38;5;28misinstance\u001b[39m(key, bytes_types)\n\u001b[0;32m   1213\u001b[0m dispatch[key[\u001b[38;5;241m0\u001b[39m]](\u001b[38;5;28mself\u001b[39m)\n",
      "\u001b[1;31mEOFError\u001b[0m: "
     ]
    }
   ],
   "source": [
    "import pandas as pd\n",
    "import joblib\n",
    "from sklearn.preprocessing import StandardScaler\n",
    "\n",
    "def preprocess_states_dataset(file_path, output_csv_path):\n",
    "    # Charger les données\n",
    "    df = pd.read_csv(file_path, delimiter='$')\n",
    "\n",
    "    # Suppression des colonnes inutiles\n",
    "    columns_to_drop = ['Unnamed: 0', 'mun_code']\n",
    "    for col in columns_to_drop:\n",
    "        if col in df.columns:\n",
    "            df.drop(columns=[col], inplace=True)\n",
    "\n",
    "    # Renommer les colonnes\n",
    "    columns_to_rename = {\n",
    "        'lat': 'Latitude',\n",
    "        'lon': 'Longitude',\n",
    "        'mun_name': 'state_name'\n",
    "    }\n",
    "    df.rename(columns=columns_to_rename, inplace=True)\n",
    "\n",
    "    # Ajouter des colonnes factices pour correspondre à l'ensemble d'entraînement\n",
    "    df['Speed_limit'] = 0  # Valeur factice\n",
    "    df['Time'] = 0         # Valeur factice\n",
    "\n",
    "    # Nettoyage des noms de colonnes\n",
    "    df.columns = df.columns.str.strip()\n",
    "\n",
    "    # Validation des coordonnées\n",
    "    if 'Longitude' in df.columns and 'Latitude' in df.columns:\n",
    "        df = df[(df['Longitude'] >= -180) & (df['Longitude'] <= 180)]\n",
    "        df = df[(df['Latitude'] >= -90) & (df['Latitude'] <= 90)]\n",
    "\n",
    " # Charger le scaler et le modèle KMeans\n",
    "    scaler = joblib.load('./models/scaler2.pkl')\n",
    "    kmeans = joblib.load('./models/kmeans_model.pkl')\n",
    "\n",
    "\n",
    "    # Normaliser toutes les colonnes nécessaires\n",
    "    df[['Longitude', 'Latitude',  'Time' ,'Speed_limit']] = scaler.transform(\n",
    "        df[['Longitude', 'Latitude', 'Time', 'Speed_limit']]\n",
    "    )\n",
    "    df['Longitude']= df['Longitude'].round(4)\n",
    "    df['Latitude']= df['Latitude'].round(4)\n",
    "\n",
    "    # Ajouter les clusters basés sur les coordonnées\n",
    "    df['Location_Cluster'] = kmeans.predict(df[['Longitude', 'Latitude']])\n",
    "\n",
    "    # Supprimer les colonnes factices après le clustering\n",
    "    df.drop(columns=['Speed_limit', 'Time'], inplace=True)\n",
    "\n",
    "    # Sauvegarder le dataset nettoyé et clusterisé\n",
    "    df.to_csv(output_csv_path, index=False, sep=';')\n",
    "    print(f\"Données nettoyées et clusterisées sauvegardées dans : {output_csv_path}\")\n",
    "\n",
    "    return df\n",
    "\n",
    "# Appel de la fonction\n",
    "processed_df =preprocess_states_dataset(\"./part1/stn_UK.csv\", \"result_roud4_scaler2.csv\")\n",
    "\n",
    "processed_df"
   ]
  }
 ],
 "metadata": {
  "kernelspec": {
   "display_name": "Python (profile-env)",
   "language": "python",
   "name": "profile-env"
  },
  "language_info": {
   "codemirror_mode": {
    "name": "ipython",
    "version": 3
   },
   "file_extension": ".py",
   "mimetype": "text/x-python",
   "name": "python",
   "nbconvert_exporter": "python",
   "pygments_lexer": "ipython3",
   "version": "3.10.15"
  }
 },
 "nbformat": 4,
 "nbformat_minor": 5
}
